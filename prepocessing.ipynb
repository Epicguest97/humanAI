{
 "cells": [
  {
   "cell_type": "code",
   "execution_count": 23,
   "id": "94adc0b6-a1f2-459b-8225-c01e198aae34",
   "metadata": {},
   "outputs": [
    {
     "name": "stdout",
     "output_type": "stream",
     "text": [
      "Processed: page_2.jpg\n",
      "Processed: page_3.jpg\n",
      "Processed: page_1.jpg\n",
      "Processed: page_4.jpg\n",
      "Processed: page_5.jpg\n",
      "Processed: page_6.jpg\n",
      "Processing completed for all images.\n"
     ]
    }
   ],
   "source": [
    "import cv2\n",
    "import numpy as np\n",
    "import os\n",
    "\n",
    "def preprocess_image(image_path, output_path):\n",
    "    img = cv2.imread(image_path, cv2.IMREAD_GRAYSCALE)\n",
    "    if img is None:\n",
    "        print(f\"Error: Could not load image {image_path}\")\n",
    "        return\n",
    "    _, img_bin = cv2.threshold(img, 128, 255, cv2.THRESH_BINARY | cv2.THRESH_OTSU)\n",
    "    cv2.imwrite(output_path, img_bin)\n",
    "input_folder, output_folder = \"file1_images\", \"file1_ipmages\"\n",
    "os.makedirs(output_folder, exist_ok=True)\n",
    "for filename in os.listdir(input_folder):\n",
    "    input_path, output_path = os.path.join(input_folder, filename), os.path.join(output_folder, filename)\n",
    "    if filename.lower().endswith((\".jpg\", \".png\", \".jpeg\")):\n",
    "        preprocess_image(input_path, output_path)\n",
    "        print(f\"Processed: {filename}\")\n",
    "    else:\n",
    "        print(f\"Skipping non-image file: {filename}\")\n",
    "print(\"Processing completed for all images.\")\n"
   ]
  },
  {
   "cell_type": "code",
   "execution_count": null,
   "id": "4fbc876f-22cf-4192-8103-0ff225292d73",
   "metadata": {},
   "outputs": [],
   "source": []
  }
 ],
 "metadata": {
  "kernelspec": {
   "display_name": "Python [conda env:base] *",
   "language": "python",
   "name": "conda-base-py"
  },
  "language_info": {
   "codemirror_mode": {
    "name": "ipython",
    "version": 3
   },
   "file_extension": ".py",
   "mimetype": "text/x-python",
   "name": "python",
   "nbconvert_exporter": "python",
   "pygments_lexer": "ipython3",
   "version": "3.11.8"
  }
 },
 "nbformat": 4,
 "nbformat_minor": 5
}
